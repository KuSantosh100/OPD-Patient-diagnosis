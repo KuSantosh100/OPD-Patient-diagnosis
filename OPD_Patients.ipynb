{
  "nbformat": 4,
  "nbformat_minor": 0,
  "metadata": {
    "colab": {
      "provenance": []
    },
    "kernelspec": {
      "name": "python3",
      "display_name": "Python 3"
    },
    "language_info": {
      "name": "python"
    }
  },
  "cells": [
    {
      "cell_type": "markdown",
      "source": [
        "# Patient Data Analytics"
      ],
      "metadata": {
        "id": "JbRvQTiJpGOQ"
      }
    },
    {
      "cell_type": "markdown",
      "source": [
        "## Importing Libraries"
      ],
      "metadata": {
        "id": "tQ0ERXOEpLxS"
      }
    },
    {
      "cell_type": "code",
      "execution_count": 2,
      "metadata": {
        "id": "EAD-s26Fo9EC"
      },
      "outputs": [],
      "source": [
        "import pandas as pd\n",
        "from sklearn.model_selection import train_test_split\n",
        "from sklearn.ensemble import RandomForestClassifier\n",
        "from sklearn.linear_model import LogisticRegression\n",
        "from sklearn.svm import SVC\n",
        "from sklearn.metrics import classification_report, accuracy_score\n",
        "from imblearn.over_sampling import SMOTE\n",
        "import joblib"
      ]
    },
    {
      "cell_type": "markdown",
      "source": [
        "## Data Loading and Initial Inspection"
      ],
      "metadata": {
        "id": "ASq1bQFSpUOF"
      }
    },
    {
      "cell_type": "code",
      "source": [
        "# Load the dataset\n",
        "df = pd.read_csv(\"/content/OPMD-PATIENTS.csv\")\n",
        "\n",
        "\n",
        "df.info()\n",
        "print(df.head())"
      ],
      "metadata": {
        "colab": {
          "base_uri": "https://localhost:8080/"
        },
        "id": "wX_-Ie4Hqrjf",
        "outputId": "3584292b-a9b2-414c-e3f6-7506e8979d70"
      },
      "execution_count": 3,
      "outputs": [
        {
          "output_type": "stream",
          "name": "stdout",
          "text": [
            "<class 'pandas.core.frame.DataFrame'>\n",
            "RangeIndex: 999 entries, 0 to 998\n",
            "Data columns (total 8 columns):\n",
            " #   Column                Non-Null Count  Dtype  \n",
            "---  ------                --------------  -----  \n",
            " 0   SL. NO.               999 non-null    int64  \n",
            " 1   PATIENT'S NAME        999 non-null    object \n",
            " 2   AGE                   998 non-null    float64\n",
            " 3   SEX                   998 non-null    object \n",
            " 4   SOCIOECONOMIC STATUS  999 non-null    object \n",
            " 5   DIAGNOSIS             999 non-null    object \n",
            " 6   HABBITS               999 non-null    object \n",
            " 7   DURATION              999 non-null    object \n",
            "dtypes: float64(1), int64(1), object(6)\n",
            "memory usage: 62.6+ KB\n",
            "   SL. NO.     PATIENT'S NAME    AGE SEX SOCIOECONOMIC STATUS  \\\n",
            "0         1   Manoj Kumar Rout  32.0   M   Lower Middle class   \n",
            "1         2             Jeeban  37.0   M          Lower class   \n",
            "2         3    Debidutta Nayak  40.0   M   Lower Middle class   \n",
            "3         4  Abdul Amjad Khan   41.0   M          Upper class   \n",
            "4         5  Sujit Kumar Nayak  31.0   M   Upper Middle Class   \n",
            "\n",
            "                 DIAGNOSIS    HABBITS  DURATION  \n",
            "0  Oral Submucous Fibrosis  Cigarette   3 years  \n",
            "1       Oral Lichen Planus       Bidi   2 years  \n",
            "2              Leukoplakia  Cigarette  6 months  \n",
            "3  Oral Submucous Fibrosis  Cigarette  8 months  \n",
            "4  Oral Submucous Fibrosis      Paan     1 year  \n"
          ]
        }
      ]
    },
    {
      "cell_type": "markdown",
      "source": [
        "## Data Preprocessing and Cleaning"
      ],
      "metadata": {
        "id": "9Zc9teM9pYfM"
      }
    },
    {
      "cell_type": "code",
      "source": [
        "# Cleaning and Standardizing the 'DIAGNOSIS' Column\n",
        "print(\"\\nCleaning 'DIAGNOSIS' column...\")\n",
        "def clean_diagnosis(diagnosis_str):\n",
        "    diagnosis_str = str(diagnosis_str).lower().strip()\n",
        "    if 'oral submucous fibrosis' in diagnosis_str or 'osmf' in diagnosis_str or 'submucous fibrosis' in diagnosis_str or 'submucoous fibrosis' in diagnosis_str or 'submuous fibrosis' in diagnosis_str or 'sub fibrosis' in diagnosis_str or 'sub mucous fibrosis' in diagnosis_str or 'submucousfibrosis' in diagnosis_str or 'submucous fibrosi' in diagnosis_str or 'submucous firbosi' in diagnosis_str or 'submucous fibrrosis' in diagnosis_str or 'submucous fibrsosis' in diagnosis_str or 'submucous fiibrosis' in diagnosis_str or 'oal submucous fibrosis' in diagnosis_str or 'oralsubmucous fibrosis' in diagnosis_str:\n",
        "        return 'oral submucous fibrosis'\n",
        "    elif 'oral lichen planus' in diagnosis_str or 'lichen planus' in diagnosis_str or 'erosive lichen planus' in diagnosis_str or 'pigmented lichen planus' in diagnosis_str or 'reticular lichen planus' in diagnosis_str or 'oral lichen planua' in diagnosis_str or 'oral lichen plaanus' in diagnosis_str or 'oral liichen planus' in diagnosis_str:\n",
        "        return 'oral lichen planus'\n",
        "    elif 'leukoplakia' in diagnosis_str or 'leukkoplakia' in diagnosis_str or 'leukoplkia' in diagnosis_str:\n",
        "        return 'leukoplakia'\n",
        "    elif 'erythroplakia' in diagnosis_str or 'eruthroplakia' in diagnosis_str:\n",
        "        return 'erythroplakia'\n",
        "    elif 'frictional keratosis' in diagnosis_str:\n",
        "        return 'frictional keratosis'\n",
        "    elif 'tobacco pouch keratosis' in diagnosis_str:\n",
        "        return 'tobacco pouch keratosis'\n",
        "    elif 'smoker' in diagnosis_str and 'palate' in diagnosis_str:\n",
        "        return 'smoker\\'s palate'\n",
        "    elif 'erythroleukoplakia' in diagnosis_str:\n",
        "        return 'erythroleukoplakia'\n",
        "    else:\n",
        "        return 'other'\n",
        "\n",
        "df['DIAGNOSIS'] = df['DIAGNOSIS'].apply(clean_diagnosis)\n",
        "print(\"Unique DIAGNOSIS values after cleaning:\")\n",
        "print(df['DIAGNOSIS'].unique())\n",
        "\n",
        "# Standardizing 'SOCIOECONOMIC STATUS' Column\n",
        "print(\"\\nStandardizing 'SOCIOECONOMIC STATUS' column...\")\n",
        "def standardize_socioeconomic_status(status_str):\n",
        "    \"\"\"\n",
        "    Standardize socioeconomic status to four specific categories:\n",
        "    - Upper Class\n",
        "    - Lower Class\n",
        "    - Upper Middle Class\n",
        "    - Lower Middle Class\n",
        "    \"\"\"\n",
        "    status_str = str(status_str).lower().strip()\n",
        "    if 'upper class' in status_str:\n",
        "        return 'Upper Class'\n",
        "    elif 'lower class' in status_str:\n",
        "        return 'Lower Class'\n",
        "    elif 'upper middle class' in status_str:\n",
        "        return 'Upper Middle Class'\n",
        "    elif 'lower middle class' in status_str:\n",
        "        return 'Lower Middle Class'\n",
        "    else:\n",
        "        return 'Lower Middle Class'\n",
        "\n",
        "df['SOCIOECONOMIC STATUS'] = df['SOCIOECONOMIC STATUS'].apply(standardize_socioeconomic_status)\n",
        "print(\"Unique SOCIOECONOMIC STATUS values after standardization:\")\n",
        "print(df['SOCIOECONOMIC STATUS'].unique())\n",
        "print(\"SOCIOECONOMIC STATUS value counts:\")\n",
        "print(df['SOCIOECONOMIC STATUS'].value_counts())\n",
        "\n",
        "# Standardizing 'SEX' Column\n",
        "print(\"\\nStandardizing 'SEX' column...\")\n",
        "def standardize_sex(sex_str):\n",
        "    \"\"\"\n",
        "    Standardize sex to only M and F\n",
        "    \"\"\"\n",
        "    sex_str = str(sex_str).upper().strip()\n",
        "    if sex_str in ['M', 'MALE']:\n",
        "        return 'M'\n",
        "    elif sex_str in ['F', 'FEMALE']:\n",
        "        return 'F'\n",
        "    else:\n",
        "        return 'M'\n",
        "\n",
        "df['SEX'] = df['SEX'].apply(standardize_sex)\n",
        "print(\"Unique SEX values after standardization:\")\n",
        "print(df['SEX'].unique())\n",
        "\n",
        "# Handling Missing Values & Fill missing 'AGE' with median & Fill missing 'SEX' with mode\n",
        "print(\"\\nHandling missing values...\")\n",
        "df['AGE'] = df['AGE'].fillna(df['AGE'].median())\n",
        "df['SEX'] = df['SEX'].fillna(df['SEX'].mode()[0])\n",
        "print(df.isnull().sum())\n",
        "\n",
        "# Encoding Categorical Features\n",
        "# Strip whitespace from column names before encoding to avoid issues\n",
        "df.columns = df.columns.str.strip()\n",
        "\n",
        "# Perform encoding on specified categorical columns\n",
        "df = pd.get_dummies(df, columns=['SEX', 'SOCIOECONOMIC STATUS', 'HABBITS', 'DURATION'])\n",
        "print(\"DataFrame head after encoding:\")\n",
        "print(df.head())"
      ],
      "metadata": {
        "colab": {
          "base_uri": "https://localhost:8080/"
        },
        "id": "B-xJxZfXqPDA",
        "outputId": "99befedb-0c0b-4a20-d3a7-014230ff5a26"
      },
      "execution_count": 4,
      "outputs": [
        {
          "output_type": "stream",
          "name": "stdout",
          "text": [
            "\n",
            "Cleaning 'DIAGNOSIS' column...\n",
            "Unique DIAGNOSIS values after cleaning:\n",
            "['oral submucous fibrosis' 'oral lichen planus' 'leukoplakia'\n",
            " 'frictional keratosis' 'tobacco pouch keratosis' 'erythroplakia'\n",
            " \"smoker's palate\"]\n",
            "\n",
            "Standardizing 'SOCIOECONOMIC STATUS' column...\n",
            "Unique SOCIOECONOMIC STATUS values after standardization:\n",
            "['Lower Middle Class' 'Lower Class' 'Upper Class' 'Upper Middle Class']\n",
            "SOCIOECONOMIC STATUS value counts:\n",
            "SOCIOECONOMIC STATUS\n",
            "Lower Middle Class    586\n",
            "Upper Middle Class    165\n",
            "Lower Class           158\n",
            "Upper Class            90\n",
            "Name: count, dtype: int64\n",
            "\n",
            "Standardizing 'SEX' column...\n",
            "Unique SEX values after standardization:\n",
            "['M' 'F']\n",
            "\n",
            "Handling missing values...\n",
            "SL. NO.                 0\n",
            "PATIENT'S NAME          0\n",
            "AGE                     0\n",
            "SEX                     0\n",
            "SOCIOECONOMIC STATUS    0\n",
            "DIAGNOSIS               0\n",
            "HABBITS                 0\n",
            "DURATION                0\n",
            "dtype: int64\n",
            "DataFrame head after encoding:\n",
            "   SL. NO.     PATIENT'S NAME   AGE                DIAGNOSIS  SEX_F  SEX_M  \\\n",
            "0        1   Manoj Kumar Rout  32.0  oral submucous fibrosis  False   True   \n",
            "1        2             Jeeban  37.0       oral lichen planus  False   True   \n",
            "2        3    Debidutta Nayak  40.0              leukoplakia  False   True   \n",
            "3        4  Abdul Amjad Khan   41.0  oral submucous fibrosis  False   True   \n",
            "4        5  Sujit Kumar Nayak  31.0  oral submucous fibrosis  False   True   \n",
            "\n",
            "   SOCIOECONOMIC STATUS_Lower Class  SOCIOECONOMIC STATUS_Lower Middle Class  \\\n",
            "0                             False                                     True   \n",
            "1                              True                                    False   \n",
            "2                             False                                     True   \n",
            "3                             False                                    False   \n",
            "4                             False                                    False   \n",
            "\n",
            "   SOCIOECONOMIC STATUS_Upper Class  SOCIOECONOMIC STATUS_Upper Middle Class  \\\n",
            "0                             False                                    False   \n",
            "1                             False                                    False   \n",
            "2                             False                                    False   \n",
            "3                              True                                    False   \n",
            "4                             False                                     True   \n",
            "\n",
            "   ...  DURATION_2 years  DURATION_2.5 years  DURATION_20 years  \\\n",
            "0  ...             False               False              False   \n",
            "1  ...              True               False              False   \n",
            "2  ...             False               False              False   \n",
            "3  ...             False               False              False   \n",
            "4  ...             False               False              False   \n",
            "\n",
            "   DURATION_3 years  DURATION_5 years  DURATION_6 months  DURATION_6 years  \\\n",
            "0              True             False              False             False   \n",
            "1             False             False              False             False   \n",
            "2             False             False               True             False   \n",
            "3             False             False              False             False   \n",
            "4             False             False              False             False   \n",
            "\n",
            "   DURATION_7 year  DURATION_8 months  DURATION_8 year  \n",
            "0            False              False            False  \n",
            "1            False              False            False  \n",
            "2            False              False            False  \n",
            "3            False               True            False  \n",
            "4            False              False            False  \n",
            "\n",
            "[5 rows x 29 columns]\n"
          ]
        }
      ]
    },
    {
      "cell_type": "markdown",
      "source": [
        "## Feature Selection and Engineering"
      ],
      "metadata": {
        "id": "IrcWjqw5pcY9"
      }
    },
    {
      "cell_type": "code",
      "source": [
        "# Drop identifier columns as they are not useful for prediction\n",
        "print(\"Dropping identifier columns ('SL. NO.', 'PATIENT'S NAME')...\")\n",
        "df = df.drop(['SL. NO.', 'PATIENT\\'S NAME'], axis=1)\n",
        "print(\"DataFrame head after feature selection:\")\n",
        "print(df.head())\n",
        "\n",
        "# Separate features (X) and target (y)\n",
        "X = df.drop('DIAGNOSIS', axis=1)\n",
        "y = df['DIAGNOSIS']\n",
        "\n",
        "print(\"Final feature columns:\")\n",
        "print(X.columns.tolist())"
      ],
      "metadata": {
        "colab": {
          "base_uri": "https://localhost:8080/"
        },
        "id": "bskfsygBqJjn",
        "outputId": "cf58acfe-6c80-4a16-d448-e4cbb4588164"
      },
      "execution_count": 5,
      "outputs": [
        {
          "output_type": "stream",
          "name": "stdout",
          "text": [
            "Dropping identifier columns ('SL. NO.', 'PATIENT'S NAME')...\n",
            "DataFrame head after feature selection:\n",
            "    AGE                DIAGNOSIS  SEX_F  SEX_M  \\\n",
            "0  32.0  oral submucous fibrosis  False   True   \n",
            "1  37.0       oral lichen planus  False   True   \n",
            "2  40.0              leukoplakia  False   True   \n",
            "3  41.0  oral submucous fibrosis  False   True   \n",
            "4  31.0  oral submucous fibrosis  False   True   \n",
            "\n",
            "   SOCIOECONOMIC STATUS_Lower Class  SOCIOECONOMIC STATUS_Lower Middle Class  \\\n",
            "0                             False                                     True   \n",
            "1                              True                                    False   \n",
            "2                             False                                     True   \n",
            "3                             False                                    False   \n",
            "4                             False                                    False   \n",
            "\n",
            "   SOCIOECONOMIC STATUS_Upper Class  SOCIOECONOMIC STATUS_Upper Middle Class  \\\n",
            "0                             False                                    False   \n",
            "1                             False                                    False   \n",
            "2                             False                                    False   \n",
            "3                              True                                    False   \n",
            "4                             False                                     True   \n",
            "\n",
            "   HABBITS_Bidi  HABBITS_Bidi & Alcohol  ...  DURATION_2 years  \\\n",
            "0         False                   False  ...             False   \n",
            "1          True                   False  ...              True   \n",
            "2         False                   False  ...             False   \n",
            "3         False                   False  ...             False   \n",
            "4         False                   False  ...             False   \n",
            "\n",
            "   DURATION_2.5 years  DURATION_20 years  DURATION_3 years  DURATION_5 years  \\\n",
            "0               False              False              True             False   \n",
            "1               False              False             False             False   \n",
            "2               False              False             False             False   \n",
            "3               False              False             False             False   \n",
            "4               False              False             False             False   \n",
            "\n",
            "   DURATION_6 months  DURATION_6 years  DURATION_7 year  DURATION_8 months  \\\n",
            "0              False             False            False              False   \n",
            "1              False             False            False              False   \n",
            "2               True             False            False              False   \n",
            "3              False             False            False               True   \n",
            "4              False             False            False              False   \n",
            "\n",
            "   DURATION_8 year  \n",
            "0            False  \n",
            "1            False  \n",
            "2            False  \n",
            "3            False  \n",
            "4            False  \n",
            "\n",
            "[5 rows x 27 columns]\n",
            "Final feature columns:\n",
            "['AGE', 'SEX_F', 'SEX_M', 'SOCIOECONOMIC STATUS_Lower Class', 'SOCIOECONOMIC STATUS_Lower Middle Class', 'SOCIOECONOMIC STATUS_Upper Class', 'SOCIOECONOMIC STATUS_Upper Middle Class', 'HABBITS_Bidi', 'HABBITS_Bidi & Alcohol', 'HABBITS_Cigarette', 'HABBITS_Gutka', 'HABBITS_Paan ', 'HABBITS_cigarette', 'DURATION_1 year', 'DURATION_1.5 years', 'DURATION_15 years', 'DURATION_2 years', 'DURATION_2.5 years', 'DURATION_20 years', 'DURATION_3 years', 'DURATION_5 years', 'DURATION_6 months', 'DURATION_6 years', 'DURATION_7 year', 'DURATION_8 months', 'DURATION_8 year']\n"
          ]
        }
      ]
    },
    {
      "cell_type": "markdown",
      "source": [
        "## Model Development and Comparison"
      ],
      "metadata": {
        "id": "GafmplsEpiMl"
      }
    },
    {
      "cell_type": "code",
      "source": [
        "# Apply SMOTE to handle class imbalance\n",
        "print(\"Applying SMOTE for class imbalance...\")\n",
        "smote = SMOTE(random_state=42)\n",
        "X_resampled, y_resampled = smote.fit_resample(X, y)\n",
        "print(\"Class distribution after SMOTE:\")\n",
        "print(y_resampled.value_counts())\n",
        "\n",
        "# Split data into training and testing sets\n",
        "print(\"Splitting data into training and testing sets...\")\n",
        "X_train, X_test, y_train, y_test = train_test_split(X_resampled, y_resampled, test_size=0.2, random_state=42)\n",
        "\n",
        "# 4.1. Random Forest Classifier\n",
        "print(\"\\n--- Training Random Forest Classifier ---\")\n",
        "rf_model = RandomForestClassifier(random_state=42)\n",
        "rf_model.fit(X_train, y_train)\n",
        "y_pred_rf = rf_model.predict(X_test)\n",
        "print(\"Random Forest Accuracy:\", accuracy_score(y_test, y_pred_rf))\n",
        "print(\"Random Forest Classification Report:\\n\", classification_report(y_test, y_pred_rf))\n",
        "\n",
        "# 4.2. Logistic Regression\n",
        "print(\"\\n--- Training Logistic Regression ---\")\n",
        "lr_model = LogisticRegression(random_state=42, max_iter=1000) # Increased max_iter for convergence\n",
        "lr_model.fit(X_train, y_train)\n",
        "y_pred_lr = lr_model.predict(X_test)\n",
        "print(\"Logistic Regression Accuracy:\", accuracy_score(y_test, y_pred_lr))\n",
        "print(\"Logistic Regression Classification Report:\\n\", classification_report(y_test, y_pred_lr))\n",
        "\n",
        "# 4.3. Support Vector Machine (SVC)\n",
        "print(\"\\n--- Training Support Vector Machine (SVC) ---\")\n",
        "svc_model = SVC(random_state=42)\n",
        "svc_model.fit(X_train, y_train)\n",
        "y_pred_svc = svc_model.predict(X_test)\n",
        "print(\"SVC Accuracy:\", accuracy_score(y_test, y_pred_svc))\n",
        "print(\"SVC Classification Report:\\n\", classification_report(y_test, y_pred_svc))"
      ],
      "metadata": {
        "colab": {
          "base_uri": "https://localhost:8080/"
        },
        "id": "N74LVX-Jp-pt",
        "outputId": "d279c559-bc6d-409f-89ee-ac844b92de9c"
      },
      "execution_count": 6,
      "outputs": [
        {
          "output_type": "stream",
          "name": "stdout",
          "text": [
            "Applying SMOTE for class imbalance...\n",
            "Class distribution after SMOTE:\n",
            "DIAGNOSIS\n",
            "oral submucous fibrosis    436\n",
            "oral lichen planus         436\n",
            "leukoplakia                436\n",
            "frictional keratosis       436\n",
            "tobacco pouch keratosis    436\n",
            "erythroplakia              436\n",
            "smoker's palate            436\n",
            "Name: count, dtype: int64\n",
            "Splitting data into training and testing sets...\n",
            "\n",
            "--- Training Random Forest Classifier ---\n",
            "Random Forest Accuracy: 0.7839607201309329\n",
            "Random Forest Classification Report:\n",
            "                          precision    recall  f1-score   support\n",
            "\n",
            "          erythroplakia       0.94      0.98      0.96        84\n",
            "   frictional keratosis       0.85      0.93      0.89        82\n",
            "            leukoplakia       0.65      0.73      0.69        81\n",
            "     oral lichen planus       0.76      0.62      0.69        96\n",
            "oral submucous fibrosis       0.56      0.58      0.57        93\n",
            "        smoker's palate       1.00      0.95      0.98        88\n",
            "tobacco pouch keratosis       0.76      0.74      0.75        87\n",
            "\n",
            "               accuracy                           0.78       611\n",
            "              macro avg       0.79      0.79      0.79       611\n",
            "           weighted avg       0.79      0.78      0.78       611\n",
            "\n",
            "\n",
            "--- Training Logistic Regression ---\n"
          ]
        },
        {
          "output_type": "stream",
          "name": "stderr",
          "text": [
            "/usr/local/lib/python3.11/dist-packages/sklearn/linear_model/_logistic.py:465: ConvergenceWarning: lbfgs failed to converge (status=1):\n",
            "STOP: TOTAL NO. OF ITERATIONS REACHED LIMIT.\n",
            "\n",
            "Increase the number of iterations (max_iter) or scale the data as shown in:\n",
            "    https://scikit-learn.org/stable/modules/preprocessing.html\n",
            "Please also refer to the documentation for alternative solver options:\n",
            "    https://scikit-learn.org/stable/modules/linear_model.html#logistic-regression\n",
            "  n_iter_i = _check_optimize_result(\n"
          ]
        },
        {
          "output_type": "stream",
          "name": "stdout",
          "text": [
            "Logistic Regression Accuracy: 0.5073649754500819\n",
            "Logistic Regression Classification Report:\n",
            "                          precision    recall  f1-score   support\n",
            "\n",
            "          erythroplakia       0.62      0.69      0.65        84\n",
            "   frictional keratosis       0.53      0.59      0.56        82\n",
            "            leukoplakia       0.33      0.20      0.25        81\n",
            "     oral lichen planus       0.40      0.22      0.28        96\n",
            "oral submucous fibrosis       0.47      0.80      0.59        93\n",
            "        smoker's palate       0.64      0.77      0.70        88\n",
            "tobacco pouch keratosis       0.40      0.29      0.34        87\n",
            "\n",
            "               accuracy                           0.51       611\n",
            "              macro avg       0.48      0.51      0.48       611\n",
            "           weighted avg       0.48      0.51      0.48       611\n",
            "\n",
            "\n",
            "--- Training Support Vector Machine (SVC) ---\n",
            "SVC Accuracy: 0.24877250409165302\n",
            "SVC Classification Report:\n",
            "                          precision    recall  f1-score   support\n",
            "\n",
            "          erythroplakia       0.32      0.24      0.27        84\n",
            "   frictional keratosis       0.29      0.46      0.36        82\n",
            "            leukoplakia       0.00      0.00      0.00        81\n",
            "     oral lichen planus       0.00      0.00      0.00        96\n",
            "oral submucous fibrosis       0.18      0.28      0.22        93\n",
            "        smoker's palate       0.28      0.52      0.37        88\n",
            "tobacco pouch keratosis       0.20      0.25      0.23        87\n",
            "\n",
            "               accuracy                           0.25       611\n",
            "              macro avg       0.18      0.25      0.21       611\n",
            "           weighted avg       0.18      0.25      0.20       611\n",
            "\n"
          ]
        },
        {
          "output_type": "stream",
          "name": "stderr",
          "text": [
            "/usr/local/lib/python3.11/dist-packages/sklearn/metrics/_classification.py:1565: UndefinedMetricWarning: Precision is ill-defined and being set to 0.0 in labels with no predicted samples. Use `zero_division` parameter to control this behavior.\n",
            "  _warn_prf(average, modifier, f\"{metric.capitalize()} is\", len(result))\n",
            "/usr/local/lib/python3.11/dist-packages/sklearn/metrics/_classification.py:1565: UndefinedMetricWarning: Precision is ill-defined and being set to 0.0 in labels with no predicted samples. Use `zero_division` parameter to control this behavior.\n",
            "  _warn_prf(average, modifier, f\"{metric.capitalize()} is\", len(result))\n",
            "/usr/local/lib/python3.11/dist-packages/sklearn/metrics/_classification.py:1565: UndefinedMetricWarning: Precision is ill-defined and being set to 0.0 in labels with no predicted samples. Use `zero_division` parameter to control this behavior.\n",
            "  _warn_prf(average, modifier, f\"{metric.capitalize()} is\", len(result))\n"
          ]
        }
      ]
    },
    {
      "cell_type": "markdown",
      "source": [
        "## Feature Importance Analysis (from Random Forest)"
      ],
      "metadata": {
        "id": "37twwJrCpqZi"
      }
    },
    {
      "cell_type": "code",
      "source": [
        "feature_importances = pd.Series(rf_model.feature_importances_, index=X.columns).sort_values(ascending=False)\n",
        "print(\"Feature Importances (from Random Forest):\\n\", feature_importances)"
      ],
      "metadata": {
        "colab": {
          "base_uri": "https://localhost:8080/"
        },
        "id": "6Jl0eemJp76r",
        "outputId": "cee9945f-2fad-4391-ae77-6eed8a4e48ce"
      },
      "execution_count": 7,
      "outputs": [
        {
          "output_type": "stream",
          "name": "stdout",
          "text": [
            "Feature Importances (from Random Forest):\n",
            " AGE                                        0.270119\n",
            "HABBITS_Paan                               0.040877\n",
            "SOCIOECONOMIC STATUS_Upper Middle Class    0.039131\n",
            "DURATION_1 year                            0.038496\n",
            "HABBITS_Cigarette                          0.038318\n",
            "SEX_F                                      0.037682\n",
            "DURATION_2 years                           0.034470\n",
            "SOCIOECONOMIC STATUS_Lower Middle Class    0.033650\n",
            "SOCIOECONOMIC STATUS_Lower Class           0.033440\n",
            "HABBITS_Bidi & Alcohol                     0.032069\n",
            "HABBITS_cigarette                          0.031840\n",
            "DURATION_7 year                            0.031035\n",
            "HABBITS_Gutka                              0.030303\n",
            "SEX_M                                      0.029817\n",
            "DURATION_2.5 years                         0.029089\n",
            "DURATION_1.5 years                         0.027905\n",
            "SOCIOECONOMIC STATUS_Upper Class           0.027750\n",
            "DURATION_5 years                           0.025707\n",
            "DURATION_6 months                          0.024470\n",
            "DURATION_8 months                          0.024148\n",
            "DURATION_8 year                            0.023806\n",
            "DURATION_20 years                          0.022659\n",
            "DURATION_6 years                           0.021932\n",
            "DURATION_15 years                          0.020919\n",
            "DURATION_3 years                           0.016398\n",
            "HABBITS_Bidi                               0.013968\n",
            "dtype: float64\n"
          ]
        }
      ]
    },
    {
      "cell_type": "markdown",
      "source": [
        "## Save Model and Feature Information"
      ],
      "metadata": {
        "id": "H2MWVGEtpris"
      }
    },
    {
      "cell_type": "code",
      "source": [
        "# Save the best performing model (Random Forest) and feature columns\n",
        "joblib.dump(rf_model, \"random_forest_model.pkl\")\n",
        "joblib.dump(X_train.columns.tolist(), \"feature_columns.pkl\")\n",
        "print(\"Model and feature columns saved successfully!\")"
      ],
      "metadata": {
        "colab": {
          "base_uri": "https://localhost:8080/"
        },
        "id": "jNoG7thwpb9Y",
        "outputId": "eb43ab2d-be92-4333-d5dc-638371867152"
      },
      "execution_count": 8,
      "outputs": [
        {
          "output_type": "stream",
          "name": "stdout",
          "text": [
            "Model and feature columns saved successfully!\n"
          ]
        }
      ]
    }
  ]
}